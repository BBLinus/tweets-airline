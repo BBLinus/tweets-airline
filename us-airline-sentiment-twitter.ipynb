{
 "cells": [
  {
   "cell_type": "code",
   "execution_count": 1,
   "metadata": {
    "_cell_guid": "b1076dfc-b9ad-4769-8c92-a6c4dae69d19",
    "_uuid": "8f2839f25d086af736a60e9eeb907d3b93b6e0e5",
    "execution": {
     "iopub.execute_input": "2021-02-26T12:38:33.690016Z",
     "iopub.status.busy": "2021-02-26T12:38:33.689235Z",
     "iopub.status.idle": "2021-02-26T12:38:33.701583Z",
     "shell.execute_reply": "2021-02-26T12:38:33.702111Z"
    },
    "papermill": {
     "duration": 0.034361,
     "end_time": "2021-02-26T12:38:33.702424",
     "exception": false,
     "start_time": "2021-02-26T12:38:33.668063",
     "status": "completed"
    },
    "tags": []
   },
   "outputs": [
    {
     "name": "stdout",
     "output_type": "stream",
     "text": [
      "/kaggle/input/twitter-airline-sentiment/Tweets.csv\n",
      "/kaggle/input/twitter-airline-sentiment/database.sqlite\n"
     ]
    }
   ],
   "source": [
    "# This Python 3 environment comes with many helpful analytics libraries installed\n",
    "# It is defined by the kaggle/python Docker image: https://github.com/kaggle/docker-python\n",
    "# For example, here's several helpful packages to load\n",
    "\n",
    "import numpy as np # linear algebra\n",
    "import pandas as pd # data processing, CSV file I/O (e.g. pd.read_csv)\n",
    "\n",
    "# Input data files are available in the read-only \"../input/\" directory\n",
    "# For example, running this (by clicking run or pressing Shift+Enter) will list all files under the input directory\n",
    "\n",
    "import os\n",
    "for dirname, _, filenames in os.walk('/kaggle/input'):\n",
    "    for filename in filenames:\n",
    "        print(os.path.join(dirname, filename))\n",
    "\n",
    "# You can write up to 20GB to the current directory (/kaggle/working/) that gets preserved as output when you create a version using \"Save & Run All\" \n",
    "# You can also write temporary files to /kaggle/temp/, but they won't be saved outside of the current session"
   ]
  },
  {
   "cell_type": "code",
   "execution_count": 2,
   "metadata": {
    "execution": {
     "iopub.execute_input": "2021-02-26T12:38:33.733559Z",
     "iopub.status.busy": "2021-02-26T12:38:33.732839Z",
     "iopub.status.idle": "2021-02-26T12:38:33.737596Z",
     "shell.execute_reply": "2021-02-26T12:38:33.736891Z"
    },
    "papermill": {
     "duration": 0.020756,
     "end_time": "2021-02-26T12:38:33.737740",
     "exception": false,
     "start_time": "2021-02-26T12:38:33.716984",
     "status": "completed"
    },
    "tags": []
   },
   "outputs": [],
   "source": [
    "####link to tutorial: https://towardsdatascience.com/handling-overfitting-in-deep-learning-models-c760ee047c6e#:~:text=Overfitting%20occurs%20when%20you%20achieve,are%20irrelevant%20in%20other%20data.&text=The%20best%20option%20is%20to%20get%20more%20training%20data"
   ]
  },
  {
   "cell_type": "code",
   "execution_count": 3,
   "metadata": {
    "execution": {
     "iopub.execute_input": "2021-02-26T12:38:33.772817Z",
     "iopub.status.busy": "2021-02-26T12:38:33.772137Z",
     "iopub.status.idle": "2021-02-26T12:38:41.538205Z",
     "shell.execute_reply": "2021-02-26T12:38:41.537669Z"
    },
    "papermill": {
     "duration": 7.787293,
     "end_time": "2021-02-26T12:38:41.538362",
     "exception": false,
     "start_time": "2021-02-26T12:38:33.751069",
     "status": "completed"
    },
    "tags": []
   },
   "outputs": [],
   "source": [
    "# Basic packages\n",
    "import pandas as pd \n",
    "import numpy as np\n",
    "import re\n",
    "import collections\n",
    "import matplotlib.pyplot as plt\n",
    "from pathlib import Path\n",
    "# Packages for data preparation\n",
    "from sklearn.model_selection import train_test_split\n",
    "from nltk.corpus import stopwords\n",
    "from keras.preprocessing.text import Tokenizer\n",
    "from keras.utils.np_utils import to_categorical\n",
    "from sklearn.preprocessing import LabelEncoder\n",
    "# Packages for modeling\n",
    "from keras import models\n",
    "from keras import layers\n",
    "from keras import regularizers\n",
    "NB_WORDS = 10000  # Parameter indicating the number of words we'll put in the dictionary\n",
    "NB_START_EPOCHS = 20  # Number of epochs we usually start to train with\n",
    "BATCH_SIZE = 512  # Size of the batches used in the mini-batch gradient descent\n",
    "MAX_LEN = 20  # Maximum number of words in a sequence\n",
    "root = Path('../')\n",
    "input_path = root / 'input/' \n",
    "ouput_path = root / 'output/'\n",
    "source_path = root / 'source/'"
   ]
  },
  {
   "cell_type": "code",
   "execution_count": 4,
   "metadata": {
    "execution": {
     "iopub.execute_input": "2021-02-26T12:38:41.570216Z",
     "iopub.status.busy": "2021-02-26T12:38:41.569306Z",
     "iopub.status.idle": "2021-02-26T12:38:41.592334Z",
     "shell.execute_reply": "2021-02-26T12:38:41.592871Z"
    },
    "papermill": {
     "duration": 0.040851,
     "end_time": "2021-02-26T12:38:41.593070",
     "exception": false,
     "start_time": "2021-02-26T12:38:41.552219",
     "status": "completed"
    },
    "tags": []
   },
   "outputs": [],
   "source": [
    "def deep_model(model, X_train, y_train, X_valid, y_valid):\n",
    "    '''\n",
    "    Function to train a multi-class model. The number of epochs and \n",
    "    batch_size are set by the constants at the top of the\n",
    "    notebook. \n",
    "    \n",
    "    Parameters:\n",
    "        model : model with the chosen architecture\n",
    "        X_train : training features\n",
    "        y_train : training target\n",
    "        X_valid : validation features\n",
    "        Y_valid : validation target\n",
    "    Output:\n",
    "        model training history\n",
    "    '''\n",
    "    model.compile(optimizer='rmsprop'\n",
    "                  , loss='categorical_crossentropy'\n",
    "                  , metrics=['accuracy'])\n",
    "    \n",
    "    history = model.fit(X_train\n",
    "                       , y_train\n",
    "                       , epochs=NB_START_EPOCHS\n",
    "                       , batch_size=BATCH_SIZE\n",
    "                       , validation_data=(X_valid, y_valid)\n",
    "                       , verbose=0)\n",
    "    return history\n",
    "def eval_metric(model, history, metric_name):\n",
    "    '''\n",
    "    Function to evaluate a trained model on a chosen metric. \n",
    "    Training and validation metric are plotted in a\n",
    "    line chart for each epoch.\n",
    "    \n",
    "    Parameters:\n",
    "        history : model training history\n",
    "        metric_name : loss or accuracy\n",
    "    Output:\n",
    "        line chart with epochs of x-axis and metric on\n",
    "        y-axis\n",
    "    '''\n",
    "    metric = history.history[metric_name]\n",
    "    val_metric = history.history['val_' + metric_name]\n",
    "    e = range(1, NB_START_EPOCHS + 1)\n",
    "    plt.plot(e, metric, 'bo', label='Train ' + metric_name)\n",
    "    plt.plot(e, val_metric, 'b', label='Validation ' + metric_name)\n",
    "    plt.xlabel('Epoch number')\n",
    "    plt.ylabel(metric_name)\n",
    "    plt.title('Comparing training and validation ' + metric_name + ' for ' + model.name)\n",
    "    plt.legend()\n",
    "    plt.show()\n",
    "def test_model(model, X_train, y_train, X_test, y_test, epoch_stop):\n",
    "    '''\n",
    "    Function to test the model on new data after training it\n",
    "    on the full training data with the optimal number of epochs.\n",
    "    \n",
    "    Parameters:\n",
    "        model : trained model\n",
    "        X_train : training features\n",
    "        y_train : training target\n",
    "        X_test : test features\n",
    "        y_test : test target\n",
    "        epochs : optimal number of epochs\n",
    "    Output:\n",
    "        test accuracy and test loss\n",
    "    '''\n",
    "    model.fit(X_train\n",
    "              , y_train\n",
    "              , epochs=epoch_stop\n",
    "              , batch_size=BATCH_SIZE\n",
    "              , verbose=0)\n",
    "    results = model.evaluate(X_test, y_test)\n",
    "    print()\n",
    "    print('Test accuracy: {0:.2f}%'.format(results[1]*100))\n",
    "    return results\n",
    "    \n",
    "def remove_stopwords(input_text):\n",
    "    '''\n",
    "    Function to remove English stopwords from a Pandas Series.\n",
    "    \n",
    "    Parameters:\n",
    "        input_text : text to clean\n",
    "    Output:\n",
    "        cleaned Pandas Series \n",
    "    '''\n",
    "    stopwords_list = stopwords.words('english')\n",
    "    # Some words which might indicate a certain sentiment are kept via a whitelist\n",
    "    whitelist = [\"n't\", \"not\", \"no\"]\n",
    "    words = input_text.split() \n",
    "    clean_words = [word for word in words if (word not in stopwords_list or word in whitelist) and len(word) > 1] \n",
    "    return \" \".join(clean_words) \n",
    "    \n",
    "def remove_mentions(input_text):\n",
    "    '''\n",
    "    Function to remove mentions, preceded by @, in a Pandas Series\n",
    "    \n",
    "    Parameters:\n",
    "        input_text : text to clean\n",
    "    Output:\n",
    "        cleaned Pandas Series \n",
    "    '''\n",
    "    return re.sub(r'@\\w+', '', input_text)\n",
    "def compare_models_by_metric(model_1, model_2, model_hist_1, model_hist_2, metric):\n",
    "    '''\n",
    "    Function to compare a metric between two models \n",
    "    \n",
    "    Parameters:\n",
    "        model_hist_1 : training history of model 1\n",
    "        model_hist_2 : training history of model 2\n",
    "        metrix : metric to compare, loss, acc, val_loss or val_acc\n",
    "        \n",
    "    Output:\n",
    "        plot of metrics of both models\n",
    "    '''\n",
    "    metric_model_1 = model_hist_1.history[metric]\n",
    "    metric_model_2 = model_hist_2.history[metric]\n",
    "    e = range(1, NB_START_EPOCHS + 1)\n",
    "    \n",
    "    metrics_dict = {\n",
    "        'acc' : 'Training Accuracy',\n",
    "        'loss' : 'Training Loss',\n",
    "        'val_acc' : 'Validation accuracy',\n",
    "        'val_loss' : 'Validation loss'\n",
    "    }\n",
    "    \n",
    "    metric_label = metrics_dict[metric]\n",
    "    plt.plot(e, metric_model_1, 'bo', label=model_1.name)\n",
    "    plt.plot(e, metric_model_2, 'b', label=model_2.name)\n",
    "    plt.xlabel('Epoch number')\n",
    "    plt.ylabel(metric_label)\n",
    "    plt.title('Comparing ' + metric_label + ' between models')\n",
    "    plt.legend()\n",
    "    plt.show()\n",
    "    \n",
    "def optimal_epoch(model_hist):\n",
    "    '''\n",
    "    Function to return the epoch number where the validation loss is\n",
    "    at its minimum\n",
    "    \n",
    "    Parameters:\n",
    "        model_hist : training history of model\n",
    "    Output:\n",
    "        epoch number with minimum validation loss\n",
    "    '''\n",
    "    min_epoch = np.argmin(model_hist.history['val_loss']) + 1\n",
    "    print(\"Minimum validation loss reached in epoch {}\".format(min_epoch))\n",
    "    return min_epoch"
   ]
  },
  {
   "cell_type": "code",
   "execution_count": 5,
   "metadata": {
    "execution": {
     "iopub.execute_input": "2021-02-26T12:38:41.624790Z",
     "iopub.status.busy": "2021-02-26T12:38:41.624044Z",
     "iopub.status.idle": "2021-02-26T12:38:44.223103Z",
     "shell.execute_reply": "2021-02-26T12:38:44.223640Z"
    },
    "papermill": {
     "duration": 2.616954,
     "end_time": "2021-02-26T12:38:44.223894",
     "exception": false,
     "start_time": "2021-02-26T12:38:41.606940",
     "status": "completed"
    },
    "tags": []
   },
   "outputs": [],
   "source": [
    "df = pd.read_csv(input_path / 'twitter-airline-sentiment/Tweets.csv')\n",
    "df = df.reindex(np.random.permutation(df.index))  \n",
    "df = df[['text', 'airline_sentiment']]\n",
    "df.text = df.text.apply(remove_stopwords).apply(remove_mentions)"
   ]
  },
  {
   "cell_type": "code",
   "execution_count": 6,
   "metadata": {
    "execution": {
     "iopub.execute_input": "2021-02-26T12:38:44.255459Z",
     "iopub.status.busy": "2021-02-26T12:38:44.254716Z",
     "iopub.status.idle": "2021-02-26T12:38:44.262230Z",
     "shell.execute_reply": "2021-02-26T12:38:44.262736Z"
    },
    "papermill": {
     "duration": 0.025063,
     "end_time": "2021-02-26T12:38:44.262939",
     "exception": false,
     "start_time": "2021-02-26T12:38:44.237876",
     "status": "completed"
    },
    "tags": []
   },
   "outputs": [],
   "source": [
    "X_train, X_test, y_train, y_test = train_test_split(df.text, df.airline_sentiment, test_size=0.1, random_state=37)"
   ]
  },
  {
   "cell_type": "code",
   "execution_count": 7,
   "metadata": {
    "execution": {
     "iopub.execute_input": "2021-02-26T12:38:44.294739Z",
     "iopub.status.busy": "2021-02-26T12:38:44.294016Z",
     "iopub.status.idle": "2021-02-26T12:38:44.557531Z",
     "shell.execute_reply": "2021-02-26T12:38:44.558032Z"
    },
    "papermill": {
     "duration": 0.281225,
     "end_time": "2021-02-26T12:38:44.558225",
     "exception": false,
     "start_time": "2021-02-26T12:38:44.277000",
     "status": "completed"
    },
    "tags": []
   },
   "outputs": [],
   "source": [
    "tk = Tokenizer(num_words=NB_WORDS,\n",
    "               filters='!\"#$%&()*+,-./:;<=>?@[\\\\]^_`{\"}~\\t\\n',\n",
    "               lower=True,\n",
    "               char_level=False,\n",
    "               split=' ')\n",
    "tk.fit_on_texts(X_train)"
   ]
  },
  {
   "cell_type": "code",
   "execution_count": 8,
   "metadata": {
    "execution": {
     "iopub.execute_input": "2021-02-26T12:38:44.589803Z",
     "iopub.status.busy": "2021-02-26T12:38:44.589113Z",
     "iopub.status.idle": "2021-02-26T12:38:45.308721Z",
     "shell.execute_reply": "2021-02-26T12:38:45.309331Z"
    },
    "papermill": {
     "duration": 0.737309,
     "end_time": "2021-02-26T12:38:45.309546",
     "exception": false,
     "start_time": "2021-02-26T12:38:44.572237",
     "status": "completed"
    },
    "tags": []
   },
   "outputs": [],
   "source": [
    "X_train_oh = tk.texts_to_matrix(X_train, mode='binary')\n",
    "X_test_oh = tk.texts_to_matrix(X_test, mode='binary')"
   ]
  },
  {
   "cell_type": "code",
   "execution_count": 9,
   "metadata": {
    "execution": {
     "iopub.execute_input": "2021-02-26T12:38:45.341527Z",
     "iopub.status.busy": "2021-02-26T12:38:45.340542Z",
     "iopub.status.idle": "2021-02-26T12:38:45.352745Z",
     "shell.execute_reply": "2021-02-26T12:38:45.352150Z"
    },
    "papermill": {
     "duration": 0.029292,
     "end_time": "2021-02-26T12:38:45.352901",
     "exception": false,
     "start_time": "2021-02-26T12:38:45.323609",
     "status": "completed"
    },
    "tags": []
   },
   "outputs": [],
   "source": [
    "le = LabelEncoder()\n",
    "y_train_le = le.fit_transform(y_train)\n",
    "y_test_le = le.transform(y_test)\n",
    "y_train_oh = to_categorical(y_train_le)\n",
    "y_test_oh = to_categorical(y_test_le)"
   ]
  },
  {
   "cell_type": "code",
   "execution_count": 10,
   "metadata": {
    "execution": {
     "iopub.execute_input": "2021-02-26T12:38:45.388395Z",
     "iopub.status.busy": "2021-02-26T12:38:45.387250Z",
     "iopub.status.idle": "2021-02-26T12:38:46.031119Z",
     "shell.execute_reply": "2021-02-26T12:38:46.031631Z"
    },
    "papermill": {
     "duration": 0.664715,
     "end_time": "2021-02-26T12:38:46.031838",
     "exception": false,
     "start_time": "2021-02-26T12:38:45.367123",
     "status": "completed"
    },
    "tags": []
   },
   "outputs": [],
   "source": [
    "X_train_rest, X_valid, y_train_rest, y_valid = train_test_split(X_train_oh, y_train_oh, test_size=0.1, random_state=37)"
   ]
  },
  {
   "cell_type": "code",
   "execution_count": 11,
   "metadata": {
    "execution": {
     "iopub.execute_input": "2021-02-26T12:38:46.068222Z",
     "iopub.status.busy": "2021-02-26T12:38:46.067169Z",
     "iopub.status.idle": "2021-02-26T12:38:46.069839Z",
     "shell.execute_reply": "2021-02-26T12:38:46.070279Z"
    },
    "papermill": {
     "duration": 0.022408,
     "end_time": "2021-02-26T12:38:46.070501",
     "exception": false,
     "start_time": "2021-02-26T12:38:46.048093",
     "status": "completed"
    },
    "tags": []
   },
   "outputs": [],
   "source": [
    "import tensorflow"
   ]
  },
  {
   "cell_type": "code",
   "execution_count": 12,
   "metadata": {
    "execution": {
     "iopub.execute_input": "2021-02-26T12:38:46.104167Z",
     "iopub.status.busy": "2021-02-26T12:38:46.103200Z",
     "iopub.status.idle": "2021-02-26T12:38:46.219680Z",
     "shell.execute_reply": "2021-02-26T12:38:46.219071Z"
    },
    "papermill": {
     "duration": 0.133928,
     "end_time": "2021-02-26T12:38:46.219843",
     "exception": false,
     "start_time": "2021-02-26T12:38:46.085915",
     "status": "completed"
    },
    "tags": []
   },
   "outputs": [],
   "source": [
    "base_model = models.Sequential()\n",
    "base_model.add(layers.Dense(64, activation='relu', input_shape=(NB_WORDS,)))\n",
    "base_model.add(layers.Dense(64, activation='relu'))\n",
    "base_model.add(layers.Dense(3, activation='softmax'))\n",
    "#base_model.name = 'Baseline model'"
   ]
  },
  {
   "cell_type": "code",
   "execution_count": null,
   "metadata": {
    "papermill": {
     "duration": 0.014257,
     "end_time": "2021-02-26T12:38:46.248948",
     "exception": false,
     "start_time": "2021-02-26T12:38:46.234691",
     "status": "completed"
    },
    "tags": []
   },
   "outputs": [],
   "source": []
  },
  {
   "cell_type": "code",
   "execution_count": 13,
   "metadata": {
    "execution": {
     "iopub.execute_input": "2021-02-26T12:38:46.290161Z",
     "iopub.status.busy": "2021-02-26T12:38:46.288961Z",
     "iopub.status.idle": "2021-02-26T12:39:02.200607Z",
     "shell.execute_reply": "2021-02-26T12:39:02.200025Z"
    },
    "papermill": {
     "duration": 15.937252,
     "end_time": "2021-02-26T12:39:02.200763",
     "exception": false,
     "start_time": "2021-02-26T12:38:46.263511",
     "status": "completed"
    },
    "tags": []
   },
   "outputs": [
    {
     "name": "stdout",
     "output_type": "stream",
     "text": [
      "Minimum validation loss reached in epoch 3\n"
     ]
    },
    {
     "data": {
      "image/png": "[encoded data removed]",
      "text/plain": [
       "<Figure size 432x288 with 1 Axes>"
      ]
     },
     "metadata": {
      "needs_background": "light"
     },
     "output_type": "display_data"
    }
   ],
   "source": [
    "base_history = deep_model(base_model, X_train_rest, y_train_rest, X_valid, y_valid)\n",
    "base_min = optimal_epoch(base_history)\n",
    "eval_metric(base_model, base_history, 'loss')"
   ]
  },
  {
   "cell_type": "code",
   "execution_count": 14,
   "metadata": {
    "execution": {
     "iopub.execute_input": "2021-02-26T12:39:02.236825Z",
     "iopub.status.busy": "2021-02-26T12:39:02.235889Z",
     "iopub.status.idle": "2021-02-26T12:39:12.782975Z",
     "shell.execute_reply": "2021-02-26T12:39:12.783532Z"
    },
    "papermill": {
     "duration": 10.566753,
     "end_time": "2021-02-26T12:39:12.783709",
     "exception": false,
     "start_time": "2021-02-26T12:39:02.216956",
     "status": "completed"
    },
    "tags": []
   },
   "outputs": [
    {
     "name": "stdout",
     "output_type": "stream",
     "text": [
      "Minimum validation loss reached in epoch 13\n"
     ]
    },
    {
     "data": {
      "image/png": "[encoded data removed]",
      "text/plain": [
       "<Figure size 432x288 with 1 Axes>"
      ]
     },
     "metadata": {
      "needs_background": "light"
     },
     "output_type": "display_data"
    }
   ],
   "source": [
    "reduced_model = models.Sequential()\n",
    "reduced_model.add(layers.Dense(16, activation='relu', input_shape=(NB_WORDS,)))\n",
    "reduced_model.add(layers.Dense(3, activation='softmax'))\n",
    "#reduced_model.name = 'Reduced model'\n",
    "reduced_history = deep_model(reduced_model, X_train_rest, y_train_rest, X_valid, y_valid)\n",
    "reduced_min = optimal_epoch(reduced_history)\n",
    "eval_metric(reduced_model, reduced_history, 'loss')"
   ]
  },
  {
   "cell_type": "code",
   "execution_count": 15,
   "metadata": {
    "execution": {
     "iopub.execute_input": "2021-02-26T12:39:12.840936Z",
     "iopub.status.busy": "2021-02-26T12:39:12.839926Z",
     "iopub.status.idle": "2021-02-26T12:39:13.009160Z",
     "shell.execute_reply": "2021-02-26T12:39:13.008505Z"
    },
    "papermill": {
     "duration": 0.208443,
     "end_time": "2021-02-26T12:39:13.009306",
     "exception": false,
     "start_time": "2021-02-26T12:39:12.800863",
     "status": "completed"
    },
    "tags": []
   },
   "outputs": [
    {
     "data": {
      "image/png": "[encoded data removed]",
      "text/plain": [
       "<Figure size 432x288 with 1 Axes>"
      ]
     },
     "metadata": {
      "needs_background": "light"
     },
     "output_type": "display_data"
    }
   ],
   "source": [
    "compare_models_by_metric(base_model, reduced_model, base_history, reduced_history, 'val_loss')"
   ]
  },
  {
   "cell_type": "code",
   "execution_count": 16,
   "metadata": {
    "execution": {
     "iopub.execute_input": "2021-02-26T12:39:13.056302Z",
     "iopub.status.busy": "2021-02-26T12:39:13.055616Z",
     "iopub.status.idle": "2021-02-26T12:39:29.240533Z",
     "shell.execute_reply": "2021-02-26T12:39:29.239558Z"
    },
    "papermill": {
     "duration": 16.212529,
     "end_time": "2021-02-26T12:39:29.240733",
     "exception": false,
     "start_time": "2021-02-26T12:39:13.028204",
     "status": "completed"
    },
    "tags": []
   },
   "outputs": [
    {
     "name": "stdout",
     "output_type": "stream",
     "text": [
      "Minimum validation loss reached in epoch 3\n"
     ]
    }
   ],
   "source": [
    "reg_model = models.Sequential()\n",
    "reg_model.add(layers.Dense(64, kernel_regularizer=regularizers.l2(0.001), activation='relu', input_shape=(NB_WORDS,)))\n",
    "reg_model.add(layers.Dense(64, kernel_regularizer=regularizers.l2(0.001), activation='relu'))\n",
    "reg_model.add(layers.Dense(3, activation='softmax'))\n",
    "#reg_model.name = 'L2 Regularization model'\n",
    "reg_history = deep_model(reg_model, X_train_rest, y_train_rest, X_valid, y_valid)\n",
    "reg_min = optimal_epoch(reg_history)"
   ]
  },
  {
   "cell_type": "code",
   "execution_count": 17,
   "metadata": {
    "execution": {
     "iopub.execute_input": "2021-02-26T12:39:29.319495Z",
     "iopub.status.busy": "2021-02-26T12:39:29.308136Z",
     "iopub.status.idle": "2021-02-26T12:39:29.482480Z",
     "shell.execute_reply": "2021-02-26T12:39:29.481947Z"
    },
    "papermill": {
     "duration": 0.2221,
     "end_time": "2021-02-26T12:39:29.482629",
     "exception": false,
     "start_time": "2021-02-26T12:39:29.260529",
     "status": "completed"
    },
    "tags": []
   },
   "outputs": [
    {
     "data": {
      "image/png": "[encoded data removed]",
      "text/plain": [
       "<Figure size 432x288 with 1 Axes>"
      ]
     },
     "metadata": {
      "needs_background": "light"
     },
     "output_type": "display_data"
    }
   ],
   "source": [
    "eval_metric(reg_model, reg_history, 'loss')"
   ]
  },
  {
   "cell_type": "code",
   "execution_count": 18,
   "metadata": {
    "execution": {
     "iopub.execute_input": "2021-02-26T12:39:29.562479Z",
     "iopub.status.busy": "2021-02-26T12:39:29.552736Z",
     "iopub.status.idle": "2021-02-26T12:39:29.715050Z",
     "shell.execute_reply": "2021-02-26T12:39:29.714510Z"
    },
    "papermill": {
     "duration": 0.212707,
     "end_time": "2021-02-26T12:39:29.715189",
     "exception": false,
     "start_time": "2021-02-26T12:39:29.502482",
     "status": "completed"
    },
    "tags": []
   },
   "outputs": [
    {
     "data": {
      "image/png": "[encoded data removed]",
      "text/plain": [
       "<Figure size 432x288 with 1 Axes>"
      ]
     },
     "metadata": {
      "needs_background": "light"
     },
     "output_type": "display_data"
    }
   ],
   "source": [
    "compare_models_by_metric(base_model, reg_model, base_history, reg_history, 'val_loss')"
   ]
  },
  {
   "cell_type": "code",
   "execution_count": 19,
   "metadata": {
    "execution": {
     "iopub.execute_input": "2021-02-26T12:39:29.766132Z",
     "iopub.status.busy": "2021-02-26T12:39:29.765117Z",
     "iopub.status.idle": "2021-02-26T12:39:46.785057Z",
     "shell.execute_reply": "2021-02-26T12:39:46.784510Z"
    },
    "papermill": {
     "duration": 17.049428,
     "end_time": "2021-02-26T12:39:46.785194",
     "exception": false,
     "start_time": "2021-02-26T12:39:29.735766",
     "status": "completed"
    },
    "tags": []
   },
   "outputs": [
    {
     "name": "stdout",
     "output_type": "stream",
     "text": [
      "Minimum validation loss reached in epoch 5\n"
     ]
    },
    {
     "data": {
      "image/png": "[encoded data removed]",
      "text/plain": [
       "<Figure size 432x288 with 1 Axes>"
      ]
     },
     "metadata": {
      "needs_background": "light"
     },
     "output_type": "display_data"
    }
   ],
   "source": [
    "\n",
    "drop_model = models.Sequential()\n",
    "drop_model.add(layers.Dense(64, activation='relu', input_shape=(NB_WORDS,)))\n",
    "drop_model.add(layers.Dropout(0.5))\n",
    "drop_model.add(layers.Dense(64, activation='relu'))\n",
    "drop_model.add(layers.Dropout(0.5))\n",
    "drop_model.add(layers.Dense(3, activation='softmax'))\n",
    "#drop_model.name = 'Dropout layers model'\n",
    "drop_history = deep_model(drop_model, X_train_rest, y_train_rest, X_valid, y_valid)\n",
    "drop_min = optimal_epoch(drop_history)\n",
    "eval_metric(drop_model, drop_history, 'loss')"
   ]
  }
 ],
 "metadata": {
  "kernelspec": {
   "display_name": "Python 3",
   "language": "python",
   "name": "python3"
  },
  "language_info": {
   "codemirror_mode": {
    "name": "ipython",
    "version": 3
   },
   "file_extension": ".py",
   "mimetype": "text/x-python",
   "name": "python",
   "nbconvert_exporter": "python",
   "pygments_lexer": "ipython3",
   "version": "3.7.9"
  },
  "papermill": {
   "default_parameters": {},
   "duration": 80.687339,
   "end_time": "2021-02-26T12:39:48.121633",
   "environment_variables": {},
   "exception": null,
   "input_path": "__notebook__.ipynb",
   "output_path": "__notebook__.ipynb",
   "parameters": {},
   "start_time": "2021-02-26T12:38:27.434294",
   "version": "2.2.2"
  }
 },
 "nbformat": 4,
 "nbformat_minor": 4
}
